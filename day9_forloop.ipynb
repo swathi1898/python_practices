{
  "nbformat": 4,
  "nbformat_minor": 0,
  "metadata": {
    "colab": {
      "name": "day9 forloop.ipynb",
      "provenance": []
    },
    "kernelspec": {
      "name": "python3",
      "display_name": "Python 3"
    }
  },
  "cells": [
    {
      "cell_type": "code",
      "metadata": {
        "id": "2jKXDJ58hbvL",
        "colab_type": "code",
        "outputId": "ea600884-cb38-477c-b87d-14f8cca307c1",
        "colab": {
          "base_uri": "https://localhost:8080/",
          "height": 85
        }
      },
      "source": [
        "a={'e':11,'b':22,'c':33,'d':44}\n",
        "for i in a:\n",
        "  print(a[i])\n",
        "  # print(\"{key} ==> {value}\".format(key=key,value=a[key]))\n"
      ],
      "execution_count": 0,
      "outputs": [
        {
          "output_type": "stream",
          "text": [
            "11\n",
            "22\n",
            "33\n",
            "44\n"
          ],
          "name": "stdout"
        }
      ]
    },
    {
      "cell_type": "code",
      "metadata": {
        "id": "jYhdLKWklfeE",
        "colab_type": "code",
        "outputId": "3a5db428-0aee-4ee7-ed8b-81ee38400b0a",
        "colab": {
          "base_uri": "https://localhost:8080/",
          "height": 34
        }
      },
      "source": [
        "key[0]"
      ],
      "execution_count": 0,
      "outputs": [
        {
          "output_type": "execute_result",
          "data": {
            "text/plain": [
              "'d'"
            ]
          },
          "metadata": {
            "tags": []
          },
          "execution_count": 28
        }
      ]
    },
    {
      "cell_type": "code",
      "metadata": {
        "id": "c92OcInIir6d",
        "colab_type": "code",
        "outputId": "25174c6d-992a-4994-8a9f-de862282b4ba",
        "colab": {
          "base_uri": "https://localhost:8080/",
          "height": 34
        }
      },
      "source": [
        "a[key]"
      ],
      "execution_count": 0,
      "outputs": [
        {
          "output_type": "execute_result",
          "data": {
            "text/plain": [
              "44"
            ]
          },
          "metadata": {
            "tags": []
          },
          "execution_count": 22
        }
      ]
    },
    {
      "cell_type": "code",
      "metadata": {
        "id": "LjmQW1uQjerR",
        "colab_type": "code",
        "outputId": "b3f1aa73-4cb3-4d63-a1b3-a7c41647d42e",
        "colab": {
          "base_uri": "https://localhost:8080/",
          "height": 68
        }
      },
      "source": [
        "fruits=['apple','banana','grapes']\n",
        "for x in fruits:\n",
        "  print(x)"
      ],
      "execution_count": 0,
      "outputs": [
        {
          "output_type": "stream",
          "text": [
            "apple\n",
            "banana\n",
            "grapes\n"
          ],
          "name": "stdout"
        }
      ]
    },
    {
      "cell_type": "code",
      "metadata": {
        "id": "ENie5EOBomfV",
        "colab_type": "code",
        "outputId": "20219dc0-0881-40a4-fcde-f3c62183dc0e",
        "colab": {
          "base_uri": "https://localhost:8080/",
          "height": 119
        }
      },
      "source": [
        "for x in 'banana':\n",
        "  print(x)"
      ],
      "execution_count": 0,
      "outputs": [
        {
          "output_type": "stream",
          "text": [
            "b\n",
            "a\n",
            "n\n",
            "a\n",
            "n\n",
            "a\n"
          ],
          "name": "stdout"
        }
      ]
    },
    {
      "cell_type": "code",
      "metadata": {
        "id": "t5_N3_5NodzU",
        "colab_type": "code",
        "outputId": "4e39efdb-150f-4e15-a55b-65de175fa4f8",
        "colab": {
          "base_uri": "https://localhost:8080/",
          "height": 85
        }
      },
      "source": [
        "fruits=['apple','banana','grapes']\n",
        "for x in fruits:\n",
        "  print(x)\n",
        "  if x == \"banana\":\n",
        "    print(\"bb\")"
      ],
      "execution_count": 0,
      "outputs": [
        {
          "output_type": "stream",
          "text": [
            "apple\n",
            "banana\n",
            "bb\n",
            "grapes\n"
          ],
          "name": "stdout"
        }
      ]
    },
    {
      "cell_type": "code",
      "metadata": {
        "id": "LidezxBmo-fV",
        "colab_type": "code",
        "outputId": "e426286b-e8c1-4c2f-d916-5208a8855119",
        "colab": {
          "base_uri": "https://localhost:8080/",
          "height": 68
        }
      },
      "source": [
        "fruits=['apple','banana','grapes']\n",
        "for x in fruits:\n",
        "  print(x)\n",
        "  if x == 'banana':\n",
        "    continue\n",
        "    print(x)"
      ],
      "execution_count": 0,
      "outputs": [
        {
          "output_type": "stream",
          "text": [
            "apple\n",
            "banana\n",
            "grapes\n"
          ],
          "name": "stdout"
        }
      ]
    },
    {
      "cell_type": "code",
      "metadata": {
        "id": "Oc0PC623q7wz",
        "colab_type": "code",
        "outputId": "dc7f3350-bb1c-4e25-9303-d6431fe5b077",
        "colab": {
          "base_uri": "https://localhost:8080/",
          "height": 119
        }
      },
      "source": [
        "for q in range(3):\n",
        " for w in range(2):\n",
        "    print(q,w)\n"
      ],
      "execution_count": 0,
      "outputs": [
        {
          "output_type": "stream",
          "text": [
            "0 0\n",
            "0 1\n",
            "1 0\n",
            "1 1\n",
            "2 0\n",
            "2 1\n"
          ],
          "name": "stdout"
        }
      ]
    },
    {
      "cell_type": "code",
      "metadata": {
        "id": "QoFM1JN1tj7r",
        "colab_type": "code",
        "outputId": "109a044c-4f2d-41d6-bb8b-3100ee6135a8",
        "colab": {
          "base_uri": "https://localhost:8080/",
          "height": 323
        }
      },
      "source": [
        "a=['red','blue','green']\n",
        "b=['rose','lily','sunflower']\n",
        "for x in a:\n",
        "  for y in b:\n",
        "    print(x)\n",
        "    print(y)"
      ],
      "execution_count": 0,
      "outputs": [
        {
          "output_type": "stream",
          "text": [
            "red\n",
            "rose\n",
            "red\n",
            "lily\n",
            "red\n",
            "sunflower\n",
            "blue\n",
            "rose\n",
            "blue\n",
            "lily\n",
            "blue\n",
            "sunflower\n",
            "green\n",
            "rose\n",
            "green\n",
            "lily\n",
            "green\n",
            "sunflower\n"
          ],
          "name": "stdout"
        }
      ]
    },
    {
      "cell_type": "code",
      "metadata": {
        "id": "n-Q7vjq4uO-d",
        "colab_type": "code",
        "outputId": "73a724be-340e-408b-a45c-1629bf5d34b9",
        "colab": {
          "base_uri": "https://localhost:8080/",
          "height": 221
        }
      },
      "source": [
        "a=['red','blue','green']\n",
        "b=['rose','lily','sunflower']\n",
        "for x in a:\n",
        "  print(x)\n",
        "  for y in b:\n",
        "    print(y)"
      ],
      "execution_count": 0,
      "outputs": [
        {
          "output_type": "stream",
          "text": [
            "red\n",
            "rose\n",
            "lily\n",
            "sunflower\n",
            "blue\n",
            "rose\n",
            "lily\n",
            "sunflower\n",
            "green\n",
            "rose\n",
            "lily\n",
            "sunflower\n"
          ],
          "name": "stdout"
        }
      ]
    },
    {
      "cell_type": "code",
      "metadata": {
        "id": "7EfQ2umruuRw",
        "colab_type": "code",
        "colab": {}
      },
      "source": [
        ""
      ],
      "execution_count": 0,
      "outputs": []
    }
  ]
}